{
 "cells": [
  {
   "cell_type": "code",
   "execution_count": 1,
   "metadata": {},
   "outputs": [],
   "source": [
    "import pandas as pd\n",
    "import numpy as np\n",
    "import matplotlib.pyplot as plt\n",
    "%matplotlib inline"
   ]
  },
  {
   "cell_type": "code",
   "execution_count": 2,
   "metadata": {},
   "outputs": [
    {
     "data": {
      "text/html": [
       "<div>\n",
       "<style scoped>\n",
       "    .dataframe tbody tr th:only-of-type {\n",
       "        vertical-align: middle;\n",
       "    }\n",
       "\n",
       "    .dataframe tbody tr th {\n",
       "        vertical-align: top;\n",
       "    }\n",
       "\n",
       "    .dataframe thead th {\n",
       "        text-align: right;\n",
       "    }\n",
       "</style>\n",
       "<table border=\"1\" class=\"dataframe\">\n",
       "  <thead>\n",
       "    <tr style=\"text-align: right;\">\n",
       "      <th></th>\n",
       "      <th>0</th>\n",
       "      <th>1</th>\n",
       "      <th>2</th>\n",
       "      <th>3</th>\n",
       "      <th>4</th>\n",
       "      <th>5</th>\n",
       "    </tr>\n",
       "  </thead>\n",
       "  <tbody>\n",
       "    <tr>\n",
       "      <th>0</th>\n",
       "      <td>8:56 AM</td>\n",
       "      <td>9:00 AM</td>\n",
       "      <td>7:45 AM</td>\n",
       "      <td>7:45 AM</td>\n",
       "      <td>8:05 AM</td>\n",
       "      <td>7:45 AM</td>\n",
       "    </tr>\n",
       "    <tr>\n",
       "      <th>1</th>\n",
       "      <td>8:40 AM</td>\n",
       "      <td>8:40 AM</td>\n",
       "      <td>8:30 AM</td>\n",
       "      <td>8:30 AM</td>\n",
       "      <td>8:45 AM</td>\n",
       "      <td>8:20 AM</td>\n",
       "    </tr>\n",
       "    <tr>\n",
       "      <th>2</th>\n",
       "      <td>8:45 AM</td>\n",
       "      <td>8:20 AM</td>\n",
       "      <td>8:05 AM</td>\n",
       "      <td>8:00 AM</td>\n",
       "      <td>8:05 AM</td>\n",
       "      <td>8:00 AM</td>\n",
       "    </tr>\n",
       "    <tr>\n",
       "      <th>3</th>\n",
       "      <td>8:40 AM</td>\n",
       "      <td>8:40 AM</td>\n",
       "      <td>8:40 AM</td>\n",
       "      <td>8:25 AM</td>\n",
       "      <td>8:40 AM</td>\n",
       "      <td>8:40 AM</td>\n",
       "    </tr>\n",
       "    <tr>\n",
       "      <th>4</th>\n",
       "      <td>8:55 AM</td>\n",
       "      <td>8:50 AM</td>\n",
       "      <td>8:55 AM</td>\n",
       "      <td>8:10 AM</td>\n",
       "      <td>8:15 AM</td>\n",
       "      <td>8:05 AM</td>\n",
       "    </tr>\n",
       "  </tbody>\n",
       "</table>\n",
       "</div>"
      ],
      "text/plain": [
       "         0        1        2        3        4        5\n",
       "0  8:56 AM  9:00 AM  7:45 AM  7:45 AM  8:05 AM  7:45 AM\n",
       "1  8:40 AM  8:40 AM  8:30 AM  8:30 AM  8:45 AM  8:20 AM\n",
       "2  8:45 AM  8:20 AM  8:05 AM  8:00 AM  8:05 AM  8:00 AM\n",
       "3  8:40 AM  8:40 AM  8:40 AM  8:25 AM  8:40 AM  8:40 AM\n",
       "4  8:55 AM  8:50 AM  8:55 AM  8:10 AM  8:15 AM  8:05 AM"
      ]
     },
     "execution_count": 2,
     "metadata": {},
     "output_type": "execute_result"
    }
   ],
   "source": [
    "df = pd.read_csv('data.csv', header=None)\n",
    "df.head()"
   ]
  },
  {
   "cell_type": "code",
   "execution_count": 3,
   "metadata": {},
   "outputs": [
    {
     "data": {
      "text/html": [
       "<div>\n",
       "<style scoped>\n",
       "    .dataframe tbody tr th:only-of-type {\n",
       "        vertical-align: middle;\n",
       "    }\n",
       "\n",
       "    .dataframe tbody tr th {\n",
       "        vertical-align: top;\n",
       "    }\n",
       "\n",
       "    .dataframe thead th {\n",
       "        text-align: right;\n",
       "    }\n",
       "</style>\n",
       "<table border=\"1\" class=\"dataframe\">\n",
       "  <thead>\n",
       "    <tr style=\"text-align: right;\">\n",
       "      <th></th>\n",
       "      <th>0</th>\n",
       "      <th>1</th>\n",
       "      <th>2</th>\n",
       "      <th>3</th>\n",
       "      <th>4</th>\n",
       "      <th>5</th>\n",
       "    </tr>\n",
       "  </thead>\n",
       "  <tbody>\n",
       "    <tr>\n",
       "      <th>count</th>\n",
       "      <td>23</td>\n",
       "      <td>23</td>\n",
       "      <td>23</td>\n",
       "      <td>23</td>\n",
       "      <td>23</td>\n",
       "      <td>23</td>\n",
       "    </tr>\n",
       "    <tr>\n",
       "      <th>unique</th>\n",
       "      <td>9</td>\n",
       "      <td>11</td>\n",
       "      <td>15</td>\n",
       "      <td>16</td>\n",
       "      <td>17</td>\n",
       "      <td>13</td>\n",
       "    </tr>\n",
       "    <tr>\n",
       "      <th>top</th>\n",
       "      <td>8:45 AM</td>\n",
       "      <td>8:50 AM</td>\n",
       "      <td>9:00 AM</td>\n",
       "      <td>8:30 AM</td>\n",
       "      <td>8:45 AM</td>\n",
       "      <td>8:45 AM</td>\n",
       "    </tr>\n",
       "    <tr>\n",
       "      <th>freq</th>\n",
       "      <td>11</td>\n",
       "      <td>5</td>\n",
       "      <td>3</td>\n",
       "      <td>3</td>\n",
       "      <td>2</td>\n",
       "      <td>3</td>\n",
       "    </tr>\n",
       "  </tbody>\n",
       "</table>\n",
       "</div>"
      ],
      "text/plain": [
       "              0        1        2        3        4        5\n",
       "count        23       23       23       23       23       23\n",
       "unique        9       11       15       16       17       13\n",
       "top     8:45 AM  8:50 AM  9:00 AM  8:30 AM  8:45 AM  8:45 AM\n",
       "freq         11        5        3        3        2        3"
      ]
     },
     "execution_count": 3,
     "metadata": {},
     "output_type": "execute_result"
    }
   ],
   "source": [
    "df.describe()"
   ]
  },
  {
   "cell_type": "code",
   "execution_count": 4,
   "metadata": {},
   "outputs": [],
   "source": [
    "columns = ['Day' + str(x) for x in range(1, 7)]"
   ]
  },
  {
   "cell_type": "code",
   "execution_count": 5,
   "metadata": {},
   "outputs": [],
   "source": [
    "df.columns = columns"
   ]
  },
  {
   "cell_type": "code",
   "execution_count": 6,
   "metadata": {},
   "outputs": [],
   "source": [
    "# df['Day1'].loc[df['Day1'].str.contains('absent')] = \"9:00AM\""
   ]
  },
  {
   "cell_type": "code",
   "execution_count": 7,
   "metadata": {},
   "outputs": [],
   "source": [
    "# times = np.array(df).reshape(23*6, 1)\n",
    "# times = pd.DataFrame(times)"
   ]
  },
  {
   "cell_type": "code",
   "execution_count": 8,
   "metadata": {},
   "outputs": [],
   "source": [
    "times = np.array(df).reshape(-1)"
   ]
  },
  {
   "cell_type": "code",
   "execution_count": 9,
   "metadata": {},
   "outputs": [],
   "source": [
    "times = pd.DataFrame(times)"
   ]
  },
  {
   "cell_type": "code",
   "execution_count": 10,
   "metadata": {},
   "outputs": [],
   "source": [
    "def TimeStringHHMM(x):\n",
    "    try:\n",
    "        return f'{pd.Timestamp(x):%H:%M}'\n",
    "    except:\n",
    "        return None\n",
    "\n",
    "times = times.applymap(TimeStringHHMM)"
   ]
  },
  {
   "cell_type": "code",
   "execution_count": 11,
   "metadata": {},
   "outputs": [],
   "source": [
    "def TimeDiff(x):\n",
    "    try:\n",
    "        time_diff = pd.Timestamp(x) - pd.Timestamp('09:00')\n",
    "        return int(time_diff.total_seconds() / 60)\n",
    "    except:\n",
    "        return None\n",
    "\n",
    "times_int = times.applymap(TimeDiff)"
   ]
  },
  {
   "cell_type": "code",
   "execution_count": 12,
   "metadata": {},
   "outputs": [
    {
     "data": {
      "text/html": [
       "<div>\n",
       "<style scoped>\n",
       "    .dataframe tbody tr th:only-of-type {\n",
       "        vertical-align: middle;\n",
       "    }\n",
       "\n",
       "    .dataframe tbody tr th {\n",
       "        vertical-align: top;\n",
       "    }\n",
       "\n",
       "    .dataframe thead th {\n",
       "        text-align: right;\n",
       "    }\n",
       "</style>\n",
       "<table border=\"1\" class=\"dataframe\">\n",
       "  <thead>\n",
       "    <tr style=\"text-align: right;\">\n",
       "      <th></th>\n",
       "      <th>0</th>\n",
       "    </tr>\n",
       "  </thead>\n",
       "  <tbody>\n",
       "    <tr>\n",
       "      <th>0</th>\n",
       "      <td>-4.0</td>\n",
       "    </tr>\n",
       "    <tr>\n",
       "      <th>1</th>\n",
       "      <td>0.0</td>\n",
       "    </tr>\n",
       "    <tr>\n",
       "      <th>2</th>\n",
       "      <td>-75.0</td>\n",
       "    </tr>\n",
       "    <tr>\n",
       "      <th>3</th>\n",
       "      <td>-75.0</td>\n",
       "    </tr>\n",
       "    <tr>\n",
       "      <th>4</th>\n",
       "      <td>-55.0</td>\n",
       "    </tr>\n",
       "  </tbody>\n",
       "</table>\n",
       "</div>"
      ],
      "text/plain": [
       "      0\n",
       "0  -4.0\n",
       "1   0.0\n",
       "2 -75.0\n",
       "3 -75.0\n",
       "4 -55.0"
      ]
     },
     "execution_count": 12,
     "metadata": {},
     "output_type": "execute_result"
    }
   ],
   "source": [
    "times_int.head()"
   ]
  },
  {
   "cell_type": "code",
   "execution_count": 18,
   "metadata": {},
   "outputs": [],
   "source": [
    "times_df = pd.Series(times_int[0])\n",
    "times_lbl_df = pd.Series(times[0])"
   ]
  },
  {
   "cell_type": "code",
   "execution_count": 22,
   "metadata": {},
   "outputs": [],
   "source": [
    "time_count = times_df.value_counts().sort_index(ascending=False)\n",
    "times_lbl_count = times_lbl_df.value_counts().sort_index(ascending=False)"
   ]
  },
  {
   "cell_type": "code",
   "execution_count": 24,
   "metadata": {},
   "outputs": [
    {
     "name": "stdout",
     "output_type": "stream",
     "text": [
      "Index(['11:00', '09:00', '08:58', '08:57', '08:56', '08:55', '08:54', '08:50',\n",
      "       '08:46', '08:45', '08:42', '08:41', '08:40', '08:39', '08:38', '08:37',\n",
      "       '08:35', '08:34', '08:32', '08:31', '08:30', '08:27', '08:25', '08:20',\n",
      "       '08:15', '08:13', '08:12', '08:10', '08:05', '08:00', '07:45', '07:30'],\n",
      "      dtype='object')\n"
     ]
    }
   ],
   "source": [
    "xlabels = times_lbl_count.index\n",
    "print(xlabels)"
   ]
  },
  {
   "cell_type": "code",
   "execution_count": 25,
   "metadata": {},
   "outputs": [
    {
     "data": {
      "image/png": "[encoded data removed]",
      "text/plain": [
       "<Figure size 1440x960 with 1 Axes>"
      ]
     },
     "metadata": {},
     "output_type": "display_data"
    }
   ],
   "source": [
    "plt.style.use('ggplot')\n",
    "fig, ax = plt.subplots(figsize=(18, 12), dpi=80)\n",
    "\n",
    "ax.set_title('The Busiest Elevator Time')\n",
    "\n",
    "ax.set_xlabel('Time')\n",
    "ax.set_ylabel('Frequency')\n",
    "\n",
    "_= ax.hist(time_count.values, bins=20, facecolor='orange', edgecolor='gray', rwidth=.7)\n",
    "\n",
    "_= ax.set_xticklabels(times_lbl_count.index)\n",
    "_= ax.set_xticks(range(0, len(time_count)))\n"
   ]
  },
  {
   "cell_type": "code",
   "execution_count": null,
   "metadata": {},
   "outputs": [],
   "source": []
  }
 ],
 "metadata": {
  "kernelspec": {
   "display_name": "learn-env",
   "language": "python",
   "name": "learn-env"
  },
  "language_info": {
   "codemirror_mode": {
    "name": "ipython",
    "version": 3
   },
   "file_extension": ".py",
   "mimetype": "text/x-python",
   "name": "python",
   "nbconvert_exporter": "python",
   "pygments_lexer": "ipython3",
   "version": "3.6.6"
  }
 },
 "nbformat": 4,
 "nbformat_minor": 2
}
